{
  "nbformat": 4,
  "nbformat_minor": 0,
  "metadata": {
    "colab": {
      "name": "function_approximation.ipynb",
      "provenance": [],
      "collapsed_sections": [],
      "authorship_tag": "ABX9TyM+SQDnuX/CuCcmwY/iVEms"
    },
    "kernelspec": {
      "name": "python3",
      "display_name": "Python 3"
    },
    "language_info": {
      "name": "python"
    },
    "accelerator": "GPU"
  },
  "cells": [
    {
      "cell_type": "markdown",
      "metadata": {
        "id": "t2dwHUAjS5vT"
      },
      "source": [
        "# Function Approximation with Neural Networks\n",
        "\n",
        "(c) 2021 Fabian Offert"
      ]
    },
    {
      "cell_type": "markdown",
      "metadata": {
        "id": "SdNkUL6yiSQL"
      },
      "source": [
        "## Imports\n",
        "\n",
        "We are using PyTorch, the de-facto standard for high-level prototyping for machine learning. Because we are operating in high-dimensional vector space, we are also using Numpy, the Python library for scientific computing. Finally, we are importing Matplotlib to visualize our results."
      ]
    },
    {
      "cell_type": "code",
      "metadata": {
        "id": "h_vFI1iW93aw"
      },
      "source": [
        "import torch.nn as nn\n",
        "import torch\n",
        "import torch.nn.functional as F\n",
        "\n",
        "import numpy as np\n",
        "\n",
        "import matplotlib.pyplot as plt\n",
        "from matplotlib.animation import FuncAnimation\n",
        "from matplotlib import rc\n",
        "rc('animation', html='html5')"
      ],
      "execution_count": 1,
      "outputs": []
    },
    {
      "cell_type": "markdown",
      "metadata": {
        "id": "5LYDSKTtuCvb"
      },
      "source": [
        "## Parts\n",
        "\n",
        "PyTorch conveniently provides us with abstractions for many of the most commonly used building blocks of neural networks. For this experiment, we are using three different basic components: fully connected layers, ReLu activation functions, and the mean squared error loss function; training happens through stochastic gradient descent with the Adam optimizer (we will discuss how this works in a later notebook).\n",
        "\n",
        "### Fully connected layer\n",
        "\n",
        "This is the standard, multilayer perceptron layer, where every unit of a layer is connected to every unit of the layer before and after. \n",
        "\n",
        "### ReLu activation function\n",
        "\n",
        "[Rectified linear units](https://en.wikipedia.org/wiki/Rectifier_(neural_networks)) are the most popular [activation function](https://en.wikipedia.org/wiki/Activation_function) in deep learning. Despite their linear look: \n",
        "\n",
        "$$f(x)=\\max(0,x)$$\n",
        "\n",
        "they are actually nonlinear ([piecewise-linear](https://en.wikipedia.org/wiki/Piecewise_linear_function), to be precise). Why? A linear function has to satisfy the condition \n",
        "\n",
        "$$\\forall_{x,y}: f(x) + f(y) = f(x+y)$$\n",
        "\n",
        "but for ReLu we have\n",
        "\n",
        "$$f(1) = 1$$\n",
        "$$f(-1) = 0$$\n",
        "$$f(-1) + f(1) = 1$$\n",
        "$$f(1-1) = 0$$\n",
        "\n",
        "### Mean squared error loss function\n",
        "\n",
        "This is one of the most straightforward [loss function](https://en.wikipedia.org/wiki/Loss_function): we just take the distance between all ground truth values and their respective predicted values in a batch, square them, and take the mean:\n",
        "\n",
        "$$ \\text{MSE} = \\frac{\\sum_{i=1}^{n} y_i - \\hat{y}_i}{n}$$\n",
        "\n"
      ]
    },
    {
      "cell_type": "code",
      "metadata": {
        "id": "r4gzPNE39x88"
      },
      "source": [
        "# Define network\n",
        "class NeuralNetwork(nn.Module):\n",
        "    def __init__(self, size=256):\n",
        "        super(NeuralNetwork,self).__init__()\n",
        "        self.input = nn.Linear(1,size)\n",
        "        self.hidden_1 = nn.Linear(size,size)\n",
        "        self.hidden_2 = nn.Linear(size,size)\n",
        "        self.out = nn.Linear(size,1)\n",
        "    \n",
        "    def forward(self,x):\n",
        "        x = self.input(x)\n",
        "        x = F.relu(x)\n",
        "        # x = F.dropout(x) # Try activating this dropout layer\n",
        "        x = self.hidden_1(x)\n",
        "        x = F.relu(x)\n",
        "        # x = F.dropout(x)\n",
        "        x = self.hidden_2(x)\n",
        "        x = F.relu(x)\n",
        "        # x = F.dropout(x)\n",
        "        x = self.out(x)\n",
        "        # x = torch.tanh(x)\n",
        "        return x"
      ],
      "execution_count": 9,
      "outputs": []
    },
    {
      "cell_type": "code",
      "metadata": {
        "id": "0ntoiuw_92Hl"
      },
      "source": [
        "# Hyperparameters\n",
        "network = NeuralNetwork()\n",
        "optimizer = torch.optim.Adam(network.parameters(), lr = 3e-4)\n",
        "loss_fn = torch.nn.MSELoss()\n",
        "batch_size = 128\n",
        "iterations = 1000"
      ],
      "execution_count": 10,
      "outputs": []
    },
    {
      "cell_type": "code",
      "metadata": {
        "id": "dcgmazB0kDuz"
      },
      "source": [
        "# Data (will be randomly sampled)\n",
        "train_min = -10\n",
        "train_max = 10\n",
        "test_min = -20\n",
        "test_max = 20"
      ],
      "execution_count": 11,
      "outputs": []
    },
    {
      "cell_type": "code",
      "metadata": {
        "colab": {
          "base_uri": "https://localhost:8080/",
          "height": 265
        },
        "id": "_iCqjtlCiqkH",
        "outputId": "258e188b-a025-41e9-ab40-d8b465cb32c1"
      },
      "source": [
        "# Function to model\n",
        "def f(x):\n",
        "    return np.sin(x)\n",
        "    # return (x**2)-x*10\n",
        "\n",
        "x = np.arange(test_min, test_max, 0.01)\n",
        "y = f(x)\n",
        "y_min = np.amin(y)\n",
        "y_max = np.amax(y)\n",
        "\n",
        "fig, ax = plt.subplots()\n",
        "ax.plot(x, y)\n",
        "plt.show()"
      ],
      "execution_count": 12,
      "outputs": [
        {
          "output_type": "display_data",
          "data": {
            "image/png": "[encoded data removed]",
            "text/plain": [
              "<Figure size 432x288 with 1 Axes>"
            ]
          },
          "metadata": {
            "tags": [],
            "needs_background": "light"
          }
        }
      ]
    },
    {
      "cell_type": "code",
      "metadata": {
        "id": "GFsnSxKSFutZ"
      },
      "source": [
        "# Define plot (do not show empty plot)\n",
        "%%capture\n",
        "fig, ax = plt.subplots()\n",
        "ax.set_xlim(test_min, test_max)\n",
        "ax.set_ylim(y_min, y_max)\n",
        "title = ax.set_title('')\n",
        "ground_truth_plot, = ax.plot([], [])\n",
        "prediction_plot, = ax.plot([], [])"
      ],
      "execution_count": 13,
      "outputs": []
    },
    {
      "cell_type": "code",
      "metadata": {
        "id": "Hft73kozFwOw"
      },
      "source": [
        "def do_epoch(iteration):\n",
        "    # Data\n",
        "    nums = np.random.uniform(train_min, train_max, batch_size)\n",
        "    x = torch.Tensor(nums)\n",
        "    y = torch.Tensor(f(nums))\n",
        "    y = y.view(batch_size, -1)\n",
        "\n",
        "    # Train\n",
        "    optimizer.zero_grad()\n",
        "    output = network(x.view(batch_size, -1))\n",
        "    loss = loss_fn(y, output)\n",
        "    loss.backward()\n",
        "    optimizer.step()\n",
        "\n",
        "    # Test\n",
        "    inputs = np.arange(test_min, test_max, 0.01)\n",
        "    ground_truth = f(inputs)\n",
        "    with torch.no_grad():\n",
        "        prediction = network(torch.Tensor(inputs).view(-1, 1)).squeeze().numpy()\n",
        "\n",
        "    # Plot\n",
        "    title.set_text(f'Iteration: {iteration+1}')\n",
        "    ground_truth_plot.set_data(inputs, ground_truth)\n",
        "    prediction_plot.set_data(inputs, prediction)\n",
        "    return(ground_truth_plot, prediction_plot) # Return to enable blitting"
      ],
      "execution_count": 14,
      "outputs": []
    },
    {
      "cell_type": "code",
      "metadata": {
        "id": "57Kga1njD7lM"
      },
      "source": [
        "FuncAnimation(fig, do_epoch, frames=iterations, repeat=False, blit=True)"
      ],
      "execution_count": null,
      "outputs": []
    }
  ]
}